{
  "cells": [
    {
      "cell_type": "code",
      "execution_count": 39,
      "metadata": {
        "pycharm": {}
      },
      "outputs": [],
      "source": [
        "import pandas as pd\n",
        "from os import listdir"
      ]
    },
    {
      "cell_type": "code",
      "execution_count": 48,
      "metadata": {
        "pycharm": {}
      },
      "outputs": [],
      "source": [
        "all_files \u003d []\n",
        "path \u003d \u0027province_houses/\u0027\n",
        "for filename in listdir(path):\n",
        "    if \u0027houses\u0027 in filename and \u0027csv\u0027 in filename:\n",
        "        df \u003d pd.read_csv(path + filename)\n",
        "        df[\u0027source\u0027] \u003d filename.split(\u0027.\u0027)[0]\n",
        "        all_files.append(df)"
      ]
    },
    {
      "cell_type": "code",
      "execution_count": 49,
      "metadata": {
        "pycharm": {}
      },
      "outputs": [],
      "source": [
        "result \u003d pd.concat(all_files)"
      ]
    },
    {
      "cell_type": "code",
      "execution_count": 51,
      "metadata": {
        "pycharm": {}
      },
      "outputs": [],
      "source": "result.to_csv(\u0027houses.csv\u0027)"
    },
    {
      "cell_type": "code",
      "execution_count": null,
      "outputs": [],
      "source": "# TODO: add rent \u0026 other attr. dataset",
      "metadata": {
        "pycharm": {
          "metadata": false,
          "name": "#%%\n"
        }
      }
    }
  ],
  "metadata": {
    "kernelspec": {
      "display_name": "Python 3",
      "language": "python",
      "name": "python3"
    },
    "language_info": {
      "codemirror_mode": {
        "name": "ipython",
        "version": 3
      },
      "file_extension": ".py",
      "mimetype": "text/x-python",
      "name": "python",
      "nbconvert_exporter": "python",
      "pygments_lexer": "ipython3",
      "version": "3.6.6"
    }
  },
  "nbformat": 4,
  "nbformat_minor": 2
}