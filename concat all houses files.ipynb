{
 "cells": [
  {
   "cell_type": "code",
   "execution_count": 35,
   "metadata": {
    "ExecuteTime": {
     "end_time": "2019-04-12T09:08:03.355611Z",
     "start_time": "2019-04-12T09:08:03.350614Z"
    },
    "pycharm": {}
   },
   "outputs": [],
   "source": [
    "import pandas as pd\n",
    "from os import listdir\n",
    "import unidecode"
   ]
  },
  {
   "cell_type": "code",
   "execution_count": 36,
   "metadata": {
    "ExecuteTime": {
     "end_time": "2019-04-12T09:08:03.567608Z",
     "start_time": "2019-04-12T09:08:03.556608Z"
    }
   },
   "outputs": [],
   "source": [
    "additional_info = pd.read_csv('additional_csv/addinfo.csv')"
   ]
  },
  {
   "cell_type": "code",
   "execution_count": 37,
   "metadata": {
    "ExecuteTime": {
     "end_time": "2019-04-12T09:08:03.776635Z",
     "start_time": "2019-04-12T09:08:03.770609Z"
    }
   },
   "outputs": [],
   "source": [
    "# Remove code, accencts and all names to lower case\n",
    "additional_info['poblacion'] = additional_info['poblacion'].apply(lambda x: unidecode.unidecode(' '.join(x.split(' ')[1:])).lower())"
   ]
  },
  {
   "cell_type": "code",
   "execution_count": 38,
   "metadata": {
    "ExecuteTime": {
     "end_time": "2019-04-12T09:08:04.945215Z",
     "start_time": "2019-04-12T09:08:03.999342Z"
    },
<<<<<<< HEAD
    {
      "cell_type": "code",
      "execution_count": 51,
      "metadata": {
        "pycharm": {}
      },
      "outputs": [],
      "source": "result.to_csv(\u0027spanish_houses.csv\u0027)"
=======
    "pycharm": {}
   },
   "outputs": [],
   "source": [
    "all_files = []\n",
    "path = 'province_houses/'\n",
    "for filename in listdir(path):\n",
    "    if 'houses' in filename and 'csv' in filename:\n",
    "        municipio = unidecode.unidecode(filename.split('_')[1].split('.')[0])\n",
    "        \n",
    "        valor_empresa_muni = pd.to_numeric(additional_info[(additional_info['poblacion'].str.contains(municipio)) & (additional_info['source'] == 'Empresas')]['valor'].values[0].replace('.', ''))\n",
    "        valor_poblacion_muni = pd.to_numeric(additional_info[(additional_info['poblacion'].str.contains(municipio)) & (additional_info['source'] == 'Poblacion')]['valor'].values[0].replace('.', ''))\n",
    "        \n",
    "        valor_empresa_nacional = pd.to_numeric(additional_info[(additional_info['poblacion'].str.contains('nacional')) & (additional_info['source'] == 'Empresas')]['valor'].values[0].replace('.', ''))\n",
    "        valor_poblacion_nacional = pd.to_numeric(additional_info[(additional_info['poblacion'].str.contains('nacional')) & (additional_info['source'] == 'Poblacion')]['valor'].values[0].replace('.', ''))\n",
    "\n",
    "        \n",
    "        df = pd.read_csv(path + filename)\n",
    "        df['source'] = filename.split('.')[0]\n",
    "        df['number_of_companies'] = valor_empresa_muni\n",
    "        df['population'] = valor_poblacion_muni\n",
    "        df['muni_companies_vs_national_%'] = ((valor_empresa_muni / valor_empresa_nacional) * 100).round(2)\n",
    "        df['population_vs_national_%'] = ((valor_poblacion_muni / valor_poblacion_nacional) * 100).round(2)\n",
    "\n",
    "        \n",
    "        all_files.append(df)"
   ]
  },
  {
   "cell_type": "code",
   "execution_count": 39,
   "metadata": {
    "ExecuteTime": {
     "end_time": "2019-04-12T09:08:05.038217Z",
     "start_time": "2019-04-12T09:08:04.946188Z"
>>>>>>> master
    },
    "pycharm": {}
   },
   "outputs": [],
   "source": [
    "result = pd.concat(all_files)"
   ]
  },
  {
   "cell_type": "code",
   "execution_count": 40,
   "metadata": {
    "ExecuteTime": {
     "end_time": "2019-04-12T09:08:06.954529Z",
     "start_time": "2019-04-12T09:08:05.040209Z"
    },
    "pycharm": {}
   },
   "outputs": [],
   "source": [
    "result.to_csv('houses.csv', index=False)"
   ]
  },
  {
   "cell_type": "code",
   "execution_count": null,
   "metadata": {},
   "outputs": [],
   "source": []
  }
 ],
 "metadata": {
  "kernelspec": {
   "display_name": "Python 3",
   "language": "python",
   "name": "python3"
  },
  "language_info": {
   "codemirror_mode": {
    "name": "ipython",
    "version": 3
   },
   "file_extension": ".py",
   "mimetype": "text/x-python",
   "name": "python",
   "nbconvert_exporter": "python",
   "pygments_lexer": "ipython3",
   "version": "3.6.4"
  }
 },
 "nbformat": 4,
 "nbformat_minor": 2
}
