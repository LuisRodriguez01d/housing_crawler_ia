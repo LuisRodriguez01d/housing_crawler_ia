{
 "cells": [
  {
   "cell_type": "code",
   "execution_count": 191,
   "metadata": {
    "ExecuteTime": {
     "end_time": "2019-04-12T09:08:03.355611Z",
     "start_time": "2019-04-12T09:08:03.350614Z"
    },
    "pycharm": {}
   },
   "outputs": [],
   "source": [
    "import pandas as pd\n",
    "from os import listdir\n",
    "import unidecode"
   ]
  },
  {
   "cell_type": "code",
   "execution_count": 192,
   "metadata": {
    "ExecuteTime": {
     "end_time": "2019-04-12T09:08:03.567608Z",
     "start_time": "2019-04-12T09:08:03.556608Z"
    }
   },
   "outputs": [],
   "source": [
    "additional_info = pd.read_csv('additional_csv/addinfo.csv')\n",
    "renta_pv = pd.read_csv('additional_csv/rentas_PV.csv',  encoding='ISO-8859-1', sep=';')\n",
    "rentas_espanya = pd.read_csv('additional_csv/rentas_espanya.csv').rename(columns={'Unnamed: 0':'provincia'})"
   ]
  },
  {
   "cell_type": "code",
   "execution_count": 193,
   "metadata": {
    "ExecuteTime": {
     "end_time": "2019-04-12T09:08:03.776635Z",
     "start_time": "2019-04-12T09:08:03.770609Z"
    }
   },
   "outputs": [],
   "source": [
    "# Remove code, accencts and all names to lower case\n",
    "additional_info['poblacion'] = additional_info['poblacion'].apply(lambda x: unidecode.unidecode(' '.join(x.split(' ')[1:])).lower())\n",
    "\n",
    "rentas_espanya['provincia'] = rentas_espanya['provincia'].apply(lambda x: unidecode.unidecode(''.join(x.split('-')[0])).lower())\n",
    "\n",
    "renta_pv['ambitos territoriales'] = renta_pv['ambitos territoriales'].apply(lambda x: unidecode.unidecode(x).lower())"
   ]
  },
  {
   "cell_type": "code",
   "execution_count": 194,
   "metadata": {
    "ExecuteTime": {
     "end_time": "2019-04-12T09:08:04.945215Z",
     "start_time": "2019-04-12T09:08:03.999342Z"
    },
    "pycharm": {}
   },
   "outputs": [],
   "source": [
    "all_files = []\n",
    "path = 'province_houses/'\n",
    "for filename in listdir(path):\n",
    "    if 'houses' in filename and 'csv' in filename:\n",
    "        provincia = unidecode.unidecode(' '.join(filename.split('_')[1:len(filename.split('_')):1]).split('.')[0])\n",
    "        renta_media = rentas_espanya[rentas_espanya['provincia'].str.contains(provincia)]['Renta disponible media']\n",
    "        if renta_media.empty:\n",
    "            renta_media = renta_pv[(renta_pv['ambitos territoriales'].str.contains(provincia)) & (renta_pv['tipo de renta'] == 'Renta total')]['2016']\n",
    "        if renta_media.empty:\n",
    "            renta_media = None\n",
    "        else:\n",
    "            renta_media = renta_media.values[0]\n",
    "            \n",
    "        valor_empresa_muni = pd.to_numeric(additional_info[(additional_info['poblacion'].str.contains(provincia)) & (additional_info['source'] == 'Empresas')]['valor'].values[0].replace('.', ''))\n",
    "        valor_poblacion_muni = pd.to_numeric(additional_info[(additional_info['poblacion'].str.contains(provincia)) & (additional_info['source'] == 'Poblacion')]['valor'].values[0].replace('.', ''))\n",
    "        \n",
    "        valor_empresa_nacional = pd.to_numeric(additional_info[(additional_info['poblacion'].str.contains('nacional')) & (additional_info['source'] == 'Empresas')]['valor'].values[0].replace('.', ''))\n",
    "        valor_poblacion_nacional = pd.to_numeric(additional_info[(additional_info['poblacion'].str.contains('nacional')) & (additional_info['source'] == 'Poblacion')]['valor'].values[0].replace('.', ''))\n",
    "\n",
    "        \n",
    "        df = pd.read_csv(path + filename)\n",
    "        df['source'] = filename.split('.')[0]\n",
    "        df['number_of_companies_prov'] = valor_empresa_muni\n",
    "        df['population_prov'] = valor_poblacion_muni\n",
    "        df['companies_prov_vs_national_%'] = ((valor_empresa_muni / valor_empresa_nacional) * 100).round(2)\n",
    "        df['population_prov_vs_national_%'] = ((valor_poblacion_muni / valor_poblacion_nacional) * 100).round(2)\n",
    "        df['renta_media_prov'] = renta_media\n",
    "\n",
    "        \n",
    "        all_files.append(df)"
   ]
  },
  {
   "cell_type": "code",
   "execution_count": 195,
   "metadata": {
    "ExecuteTime": {
     "end_time": "2019-04-12T09:08:05.038217Z",
     "start_time": "2019-04-12T09:08:04.946188Z"
    },
    "pycharm": {}
   },
   "outputs": [],
   "source": [
    "result = pd.concat(all_files)"
   ]
  },
  {
   "cell_type": "code",
   "execution_count": 196,
   "metadata": {
    "ExecuteTime": {
     "end_time": "2019-04-12T09:08:06.954529Z",
     "start_time": "2019-04-12T09:08:05.040209Z"
    },
    "pycharm": {}
   },
   "outputs": [],
   "source": [
    "result.to_csv('spanish_houses.csv', index=False)"
   ]
  }
 ],
 "metadata": {
  "kernelspec": {
   "display_name": "Python 3",
   "language": "python",
   "name": "python3"
  },
  "language_info": {
   "codemirror_mode": {
    "name": "ipython",
    "version": 3
   },
   "file_extension": ".py",
   "mimetype": "text/x-python",
   "name": "python",
   "nbconvert_exporter": "python",
   "pygments_lexer": "ipython3",
   "version": "3.7.3"
  }
 },
 "nbformat": 4,
 "nbformat_minor": 2
}
